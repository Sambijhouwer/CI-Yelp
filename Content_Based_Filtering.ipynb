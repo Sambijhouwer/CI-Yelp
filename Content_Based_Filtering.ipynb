{
 "cells": [
  {
   "cell_type": "code",
   "execution_count": 18,
   "metadata": {},
   "outputs": [],
   "source": [
    "import pandas as pd\n",
    "import json\n",
    "import os\n",
    "import matplotlib.pyplot as plt\n",
    "%matplotlib inline\n",
    "def load_jsons(data_path, file):\n",
    "    \"\"\" helper function to load '.json' files (they're not proper jsons) \"\"\"\n",
    "    file_path = data_path + file\n",
    "    with open(file_path) as jsons:\n",
    "        lines = [json.loads(json_line) for json_line in jsons]\n",
    "    return pd.DataFrame(lines)"
   ]
  },
  {
   "cell_type": "markdown",
   "metadata": {},
   "source": [
    "### Data inladen \n",
    "\n",
    "    Load data for town called Ambridge\n",
    "    data_path = './data/ambridge/'\n",
    "    review_file = 'review.json'\n",
    "    business_file = 'business.json'\n",
    "    user_file = 'user.json'\n",
    "    tip_file = 'tip.json'\n",
    "    checkin_file = 'checkin.json'\n",
    "\n",
    "    reviews = load_jsons(data_path, review_file)\n",
    "    businesses = load_jsons(data_path, business_file)\n",
    "    users = load_jsons(data_path, user_file)\n",
    "    tips = load_jsons(data_path, tip_file)\n",
    "    checkins = load_jsons(data_path, checkin_file)"
   ]
  },
  {
   "cell_type": "code",
   "execution_count": 9,
   "metadata": {},
   "outputs": [],
   "source": [
    "# Loop over alle data \n",
    "for filename in os.listdir('data'):\n",
    "    for file in os.listdir(f\"data/{filename}\"):\n",
    "        pass"
   ]
  },
  {
   "cell_type": "code",
   "execution_count": 24,
   "metadata": {},
   "outputs": [],
   "source": [
    "data_path = './data/ajax/'\n",
    "review_file = 'review.json'\n",
    "business_file = 'business.json'\n",
    "user_file = 'user.json'\n",
    "tip_file = 'tip.json'\n",
    "checkin_file = 'checkin.json'\n",
    "\n",
    "reviews = load_jsons(data_path, review_file)\n",
    "businesses = load_jsons(data_path, business_file)\n",
    "users = load_jsons(data_path, user_file)\n",
    "tips = load_jsons(data_path, tip_file)\n",
    "checkins = load_jsons(data_path, checkin_file)\n"
   ]
  },
  {
   "cell_type": "code",
   "execution_count": 23,
   "metadata": {},
   "outputs": [
    {
     "data": {
      "text/plain": [
       "Text(0.5, 1.0, 'reviews per user')"
      ]
     },
     "execution_count": 23,
     "metadata": {},
     "output_type": "execute_result"
    },
    {
     "data": {
      "image/png": "[encoded data removed]",
      "text/plain": [
       "<Figure size 432x288 with 1 Axes>"
      ]
     },
     "metadata": {
      "needs_background": "light"
     },
     "output_type": "display_data"
    }
   ],
   "source": [
    "# Reviews per User plot (voor één gebied)\n",
    "\n",
    "user = reviews.groupby(\"user_id\")\n",
    "stars = user['stars']\n",
    "stars = stars.apply(len)\n",
    "\n",
    "# Plot\n",
    "fig, (ax1) = plt.subplots(ncols=1)\n",
    "ax1.plot(list(stars.sort_values(ascending=False)))\n",
    "ax1.grid(True)\n",
    "ax1.set_xlabel(\"Users\")\n",
    "ax1.set_ylabel(\"number of Reviews\")\n",
    "ax1.set_title(\"reviews per user\")"
   ]
  },
  {
   "cell_type": "code",
   "execution_count": null,
   "metadata": {},
   "outputs": [],
   "source": []
  }
 ],
 "metadata": {
  "kernelspec": {
   "display_name": "Python 3",
   "language": "python",
   "name": "python3"
  },
  "language_info": {
   "codemirror_mode": {
    "name": "ipython",
    "version": 3
   },
   "file_extension": ".py",
   "mimetype": "text/x-python",
   "name": "python",
   "nbconvert_exporter": "python",
   "pygments_lexer": "ipython3",
   "version": "3.7.7"
  }
 },
 "nbformat": 4,
 "nbformat_minor": 4
}
