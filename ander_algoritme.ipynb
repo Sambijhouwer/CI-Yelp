{
 "cells": [
  {
   "cell_type": "code",
   "execution_count": 1,
   "metadata": {},
   "outputs": [],
   "source": [
    "import pandas as pd\n",
    "import json\n",
    "def load_jsons(data_path, file):\n",
    "    \"\"\" helper function to load '.json' files (they're not proper jsons) \"\"\"\n",
    "    file_path = data_path + file\n",
    "    with open(file_path) as jsons:\n",
    "        lines = [json.loads(json_line) for json_line in jsons]\n",
    "    return pd.DataFrame(lines)"
   ]
  },
  {
   "cell_type": "markdown",
   "metadata": {},
   "source": [
    "### Data inladen \n",
    "\n",
    "    Load data for town called Ambridge\n",
    "    data_path = './data/ambridge/'\n",
    "    review_file = 'review.json'\n",
    "    business_file = 'business.json'\n",
    "    user_file = 'user.json'\n",
    "    tip_file = 'tip.json'\n",
    "    checkin_file = 'checkin.json'\n",
    "\n",
    "    reviews = load_jsons(data_path, review_file)\n",
    "    businesses = load_jsons(data_path, business_file)\n",
    "    users = load_jsons(data_path, user_file)\n",
    "    tips = load_jsons(data_path, tip_file)\n",
    "    checkins = load_jsons(data_path, checkin_file)"
   ]
  },
  {
   "cell_type": "code",
   "execution_count": null,
   "metadata": {},
   "outputs": [],
   "source": []
  }
 ],
 "metadata": {
  "kernelspec": {
   "display_name": "Python 3",
   "language": "python",
   "name": "python3"
  },
  "language_info": {
   "codemirror_mode": {
    "name": "ipython",
    "version": 3
   },
   "file_extension": ".py",
   "mimetype": "text/x-python",
   "name": "python",
   "nbconvert_exporter": "python",
   "pygments_lexer": "ipython3",
   "version": "3.7.7"
  }
 },
 "nbformat": 4,
 "nbformat_minor": 4
}
